{
 "cells": [
  {
   "cell_type": "code",
   "execution_count": 4,
   "metadata": {
    "collapsed": true
   },
   "outputs": [],
   "source": [
    "import pickle\n",
    "import os\n",
    "import shapely\n",
    "import shapely.geometry\n",
    "import shapely.affinity\n",
    "import h5py\n",
    "import pandas as pd\n",
    "import tifffile as tiff\n",
    "from numba import jit, njit\n",
    "from tqdm import tqdm\n",
    "from collections import defaultdict\n",
    "import csv\n",
    "import sys\n",
    "\n",
    "import cv2\n",
    "from shapely.geometry import MultiPolygon, Polygon\n",
    "import shapely.wkt\n",
    "import shapely.affinity\n",
    "import numpy as np\n",
    "import tifffile as tiff\n",
    "from shapely.wkt import loads\n",
    "import collections, numpy"
   ]
  },
  {
   "cell_type": "code",
   "execution_count": 5,
   "metadata": {
    "collapsed": true
   },
   "outputs": [],
   "source": [
    "f_label = h5py.File(os.path.join(\"../data\", 'train_label.h5'), 'r')\n",
    "f_unlabel = h5py.File(os.path.join(\"../data\", 'train_unlabel.h5'), 'r')\n",
    "f_validate = h5py.File(os.path.join(\"../data\", 'validation.h5'), 'r')"
   ]
  },
  {
   "cell_type": "code",
   "execution_count": 6,
   "metadata": {
    "collapsed": true
   },
   "outputs": [],
   "source": [
    "label_mask = np.array(f_label['train_mask'])\n",
    "unlabel_mask = np.array(f_unlabel['train_mask'])\n",
    "validate_mask = np.array(f_validate['train_mask'])"
   ]
  },
  {
   "cell_type": "code",
   "execution_count": 7,
   "metadata": {
    "collapsed": true
   },
   "outputs": [],
   "source": [
    "def get_class_distribution(mask):\n",
    "    for i in range(8):\n",
    "        unique, counts = numpy.unique(mask[:,i,:,:], return_counts=True)\n",
    "        result = dict(zip(unique, counts))\n",
    "        if(1 in result):\n",
    "            portion = result[1]/(result[0]+result[1])\n",
    "        else:\n",
    "            portion = 0\n",
    "        print(portion)"
   ]
  },
  {
   "cell_type": "code",
   "execution_count": 8,
   "metadata": {},
   "outputs": [
    {
     "name": "stdout",
     "output_type": "stream",
     "text": [
      "0.09907919979659763\n",
      "0.02145109458787907\n",
      "0.028039045164571005\n",
      "0.04330828965768306\n",
      "0.05299711509569157\n",
      "0.5110892752923909\n",
      "0\n",
      "0.006027149448733358\n"
     ]
    }
   ],
   "source": [
    "get_class_distribution(label_mask)"
   ]
  },
  {
   "cell_type": "code",
   "execution_count": 9,
   "metadata": {},
   "outputs": [
    {
     "name": "stdout",
     "output_type": "stream",
     "text": [
      "0\n",
      "0.0016129172059911243\n",
      "0\n",
      "0.01345933541743713\n",
      "0.19002162775344397\n",
      "0.20205214460925944\n",
      "0\n",
      "4.573122284116124e-05\n"
     ]
    }
   ],
   "source": [
    "get_class_distribution(unlabel_mask)"
   ]
  },
  {
   "cell_type": "code",
   "execution_count": 10,
   "metadata": {},
   "outputs": [
    {
     "name": "stdout",
     "output_type": "stream",
     "text": [
      "0.020510160006009616\n",
      "0.011058378501756656\n",
      "0.008835019444572855\n",
      "0.045161501190366125\n",
      "0.060385077662721894\n",
      "0.795404558351054\n",
      "0\n",
      "0\n"
     ]
    }
   ],
   "source": [
    "get_class_distribution(validate_mask)"
   ]
  },
  {
   "cell_type": "code",
   "execution_count": 13,
   "metadata": {
    "collapsed": true
   },
   "outputs": [],
   "source": [
    "f_test = h5py.File(os.path.join(\"../data\", 'test.h5'), 'r')\n",
    "test_mask = np.array(f_test['test_mask'])"
   ]
  },
  {
   "cell_type": "code",
   "execution_count": 14,
   "metadata": {},
   "outputs": [
    {
     "name": "stdout",
     "output_type": "stream",
     "text": [
      "0.01716257129195174\n",
      "0.005349921051567123\n",
      "0.005771298380293085\n",
      "0.02805075560801128\n",
      "0.05506364269369453\n",
      "0.22494931192793086\n",
      "0.00993383283445821\n",
      "0.0002709563667252219\n"
     ]
    }
   ],
   "source": [
    "get_class_distribution(test_mask)"
   ]
  },
  {
   "cell_type": "markdown",
   "metadata": {
    "collapsed": true
   },
   "source": [
    "# Class Distribution of every single image"
   ]
  },
  {
   "cell_type": "code",
   "execution_count": null,
   "metadata": {
    "collapsed": true
   },
   "outputs": [],
   "source": [
    "def get_all_class_distribution(image,mask):\n",
    "    index = 0\n",
    "    result_dict = {}\n",
    "    for im in image:\n",
    "        s_image_result = []\n",
    "        for i in range(8):\n",
    "            unique, counts = numpy.unique(mask[index,i,:,:], return_counts=True)\n",
    "            result = dict(zip(unique, counts))\n",
    "            if(1 in result):\n",
    "                portion = result[1]/(result[0]+result[1])\n",
    "            else:\n",
    "                portion = 0\n",
    "            s_image_result.append(portion)\n",
    "        result_dict[im]=s_image_result\n",
    "        index=index+1\n",
    "    return result_dict"
   ]
  },
  {
   "cell_type": "code",
   "execution_count": null,
   "metadata": {
    "collapsed": true
   },
   "outputs": [],
   "source": [
    "image = h5py.File(os.path.join(\"../data\", 'all.h5'), 'r')\n",
    "mask = np.array(image['image_mask'])"
   ]
  },
  {
   "cell_type": "code",
   "execution_count": null,
   "metadata": {
    "collapsed": true
   },
   "outputs": [],
   "source": [
    "result_dict = get_all_class_distribution(image['train_ids'],mask)\n",
    "df = pd.DataFrame(result_dict).T\n",
    "df.columns = ['Buildings', 'Structure','Road','Track','Trees','Crops','Fast water','Slow water']\n",
    "df.to_csv('class_distribution.csv')"
   ]
  }
 ],
 "metadata": {
  "kernelspec": {
   "display_name": "Python 3",
   "language": "python",
   "name": "python3"
  },
  "language_info": {
   "codemirror_mode": {
    "name": "ipython",
    "version": 3
   },
   "file_extension": ".py",
   "mimetype": "text/x-python",
   "name": "python",
   "nbconvert_exporter": "python",
   "pygments_lexer": "ipython3",
   "version": "3.6.1"
  }
 },
 "nbformat": 4,
 "nbformat_minor": 2
}
